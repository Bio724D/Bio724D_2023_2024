{
 "cells": [
  {
   "cell_type": "markdown",
   "id": "da033880-42f8-4cd1-bbd1-234d37d2c0b5",
   "metadata": {},
   "source": [
    "# Problem Set 18: Introduction to SQL\n",
    "\n",
    "Author: Greg Wray  \n",
    "2024-FEB-25\n",
    "\n",
    "## Instructions\n",
    "\n",
    "Create a markdown document within JupyterLab and answer the questions below using code blocks that generate the correct outputs. We encourage you to include explanatory text in your markdown document. \n",
    "\n",
    "Write \"robust\" solutions wherever possible. A good rule of thumb for judging whether your solution is appropriately \"robust\" is to ask yourself \"If I added additional observations or variables to this data set, or if the order of variables changed, would my code still compute the right solution?\"\n",
    "\n",
    "Make sure your markdown is nicely formatted -- use headers, bullets, numbering, etc so that the structure of the document is clear.\n",
    "\n",
    "When completed, title your Jupyter notebook file as follows (replace `XX` with the assignment number, e.g. `01`, `02`, etc):\n",
    "\n",
    "-   `netid-assignment_XX-Spring2024.ipynb`\n",
    "\n",
    "Submit both your markdown file and the generated HTML document via the Assignments submission section on Sakai."
   ]
  },
  {
   "cell_type": "markdown",
   "id": "72f3dd89-ca53-4266-b9fb-49b629e95999",
   "metadata": {
    "jp-MarkdownHeadingCollapsed": true
   },
   "source": [
    "**Specific to this problem set:** Refer to `SQL_notebook_1.ipynb` (available on the class wiki) for the code to load packages and re-create the birdwatching database. This notebook also contains the queries we went over in class, as well as notes about syntax and usage. "
   ]
  },
  {
   "cell_type": "markdown",
   "id": "98cca74e-7c02-438d-a290-aaf31bfc7e8e",
   "metadata": {},
   "source": [
    "**1.** The Bat Falcon (below; photo by Joao Quintal) is a beautiful bird whose range extends from southern Mexico to northern Argentina. What country was Greg in the second time he saw a Bat Falcon? You could construct a single, rather complicated query to get the answer, but for one-off questions like this, it's usually quicker to break the problem down into several simple and separate queries. In this case, you can get the answer using queries to the `species`, `observations`, and `locations` tables, in that order. Show the three simple queries and give the answer.\n",
    "\n",
    "![Bat Falcon, photo by Joao Quintal](Bat_Falcon.jpg)"
   ]
  },
  {
   "cell_type": "markdown",
   "id": "2aff92ec-eb41-4e6e-8494-36c4109c9d22",
   "metadata": {},
   "source": [
    "**2.** What was Greg's biggest birding day ever? Where in the world was he on this epic day? (**A**) First, write a single query that returns the date on which the largest total number of species was observed. (**B**) Next, write a separate query that returns all of the locations on that day where he recorded an observation. Use aliases to make the meaning of the results clear. (**C**) Bonus question: What was Greg's biggest birding day in terms of the number of **new** species observed?"
   ]
  },
  {
   "cell_type": "markdown",
   "id": "1b36e8a0-3c40-477d-84cc-3492ef544156",
   "metadata": {},
   "source": [
    "**3.** Building on the previous problem: (**A**) Write a query that returns all of the species observed on the big day. Use `DISTINCT` to remove any redundant listings (i.e., species observed more than once on that day should appear only once in the output). (**B**) extend this query with a left join to return additional information about each species: its common name, its conservation status, and whether it is an endemic or near-endemic (range restricted to one country). Order the output of this second query by IOC sequence, not by the order in which they were seen. Use `CONCAT` and aliases to provide nicely formatted output and informative column names. "
   ]
  },
  {
   "cell_type": "markdown",
   "id": "fe9a55ae-edb3-4308-a9fb-ee65b855295a",
   "metadata": {},
   "source": [
    "**4.**  Many websites draw information from relational databases and present summary statistics. An example is eBird, a website where you can upload your own birding observations and contribute to an extremely valuable crowd-sourced database. Click [here](https://ebird.org/home) to visit the eBird homepage, then scroll down to the blue bar across the page that displays \"EBIRD STATS\". Every time you load the webpage, an SQL query is executed behind the scenes that returns the current tallies, which are then assigned into variable names in the html code for the webpage. If you set up an account and contribute lists, your personal tallies will appear under \"MY STATS\" next to the rotating bird photo near the top of the page.\n",
    "\n",
    "In class, we constructed a nested query that returns a similar kind of tally, namely the total number of species observed, along with the total number of species recognized by the IOC. Both of these numbers changes many times each year, as more observations are made and as the IOC incorporates information from studies that clarify species boundaries. The code from class is shown below. Your task is to extend this query to return tallies and total numbers for all four taxonomic ranks in the birding database. Bear in mind that the `orders` and `families` tables are complete, while the `genera` and `species` tables only contain taxa that have been observed. This means you will need to construct different nested queries for some of the different taxonomic ranks. You may need to shorten the column aliases to get them to fit on one line of output (e.g., 'spp obs' and 'spp total').\n",
    "\n",
    "(**A**) Start by adding subqueries that return the number of observed and total genera. These can be modeled on the corresponding columns for species. (**B**) Next, add subqueries for families. These need to differ, because the `families` table is comprehensive: it has entries for every family, whether seen or not. This provides a straighforward way to compute the total number of families. If you are having trouble figuring out how to compute the number of families observed, a hint is that you will need to query the `genera` table. (**C**) Bonus question: add subqueries for orders. Retrieving the total number of orders can be modeled on the method for families. However, retrieving the number of observed orders is harder. A hint is that it will require a subquery within a subquery. If you can figure this one out, you are on your way to becoming a SQL Jedi Master! "
   ]
  },
  {
   "cell_type": "code",
   "execution_count": null,
   "id": "2cb83589-1892-4196-93a3-3a4c309eea36",
   "metadata": {},
   "outputs": [],
   "source": [
    "%%sql\n",
    "-- return the number of species observed and the total number recognized\n",
    "SELECT\n",
    "  (SELECT CURRENT_DATE) AS 'as of',\n",
    "  (SELECT COUNT(DISTINCT (genus_ioc, species_ioc)) FROM species) AS 'species observed',\n",
    "  (SELECT SUM(num_spp) FROM families) AS 'out of a total of';"
   ]
  },
  {
   "cell_type": "markdown",
   "id": "e96db7a1-99de-4cea-aee5-b2385f91103d",
   "metadata": {},
   "source": [
    "**5. Notebook:** Choose something that you learned from lecture, the hands-on coding in class, or your own investigation that you think will be valuable for your future programming endeavors. Using text or a mix of text and code, create an entry for your notebook. Add this to your notebook and include it here. "
   ]
  },
  {
   "cell_type": "markdown",
   "id": "9baf1b7b-d6e4-4263-8e5d-0985b75475b6",
   "metadata": {},
   "source": [
    "**5. Thursday lunch:** Identify something that you learned from the presentation or discussion on Thursday that you found valuable. Provide a brief reflection here (1-5 sentences) and include code or pseudo-code if useful. (Hint: consider adding this to your notebook as well.)"
   ]
  },
  {
   "cell_type": "code",
   "execution_count": null,
   "id": "2d3ea1a2-cd1d-4a93-a772-ff4e415f9caf",
   "metadata": {},
   "outputs": [],
   "source": []
  }
 ],
 "metadata": {
  "kernelspec": {
   "display_name": "Python 3 (ipykernel)",
   "language": "python",
   "name": "python3"
  },
  "language_info": {
   "codemirror_mode": {
    "name": "ipython",
    "version": 3
   },
   "file_extension": ".py",
   "mimetype": "text/x-python",
   "name": "python",
   "nbconvert_exporter": "python",
   "pygments_lexer": "ipython3",
   "version": "3.10.13"
  }
 },
 "nbformat": 4,
 "nbformat_minor": 5
}
