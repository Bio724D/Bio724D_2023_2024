{
 "cells": [
  {
   "cell_type": "markdown",
   "metadata": {},
   "source": [
    "# Problem Set 17: More Pnadas\n",
    "\n",
    "Author: Paul Magwene\n",
    "\n",
    "- - -"
   ]
  },
  {
   "cell_type": "markdown",
   "metadata": {},
   "source": [
    "## Instructions\n",
    "\n",
    "Create a markdown document within JupyterLab and answer the questions below using code blocks that generate the correct outputs. We encourage you to include explanatory text in your markdown document. \n",
    "\n",
    "Write \"robust\" solutions wherever possible. A good rule of thumb for judging whether your solution is appropriately \"robust\" is to ask yourself \"If I added additional observations or variables to this data set, or if the order of variables changed, would my code still compute the right solution?\"\n",
    "\n",
    "Make sure your markdown is nicely formatted -- use headers, bullets, numbering, etc so that the structure of the document is clear.\n",
    "\n",
    "When completed, title your Jupyter notebook file as follows (replace `XX` with the assignment number, e.g. `01`, `02`, etc):\n",
    "\n",
    "-   `netid-assignment_XX-Spring2024.ipynb`\n",
    "\n",
    "Submit both your markdown file and the generated HTML document via the Assignments submission section on Sakai."
   ]
  },
  {
   "cell_type": "markdown",
   "metadata": {},
   "source": [
    "## Data"
   ]
  },
  {
   "cell_type": "markdown",
   "metadata": {},
   "source": [
    "The website [\"Information is Beautiful\"](https://informationisbeautiful.net/) has lots of interesting data visualizations and \"data stories\".\n",
    "\n",
    "One of the data stories of biomedical interest is the [MicrobeScope](https://informationisbeautiful.net/visualizations/the-microbescope-infectious-diseases-in-context/), which presents data on the contagiousness of various microbes and its relationship to deadliness, fatality rate, media coverage, etc.\n",
    "\n",
    "The following image shows the relationship between contagiousness ($R_0$) and deadliness (case fatality rate).\n",
    "\n",
    "---\n",
    "\n",
    "![Deadliness vs contagiousness for a variety of microbial pathogens.](microbescope-plot.png)\n",
    "\n",
    "---\n",
    "\n",
    "I've made the original data used to produce the figure above available to you as a CSV file at the following URL:\n",
    "\n",
    "* [Microbescope_original_data.csv](https://github.com/Bio724/Bio724-Example-Data/raw/main/Microbescope_original_data.csv) -- this data was derived from the \"original data\" sheet in the data provided at http://bit.ly/KIB_Microbescope\n",
    "\n"
   ]
  },
  {
   "cell_type": "markdown",
   "metadata": {},
   "source": [
    "## Problems"
   ]
  },
  {
   "cell_type": "markdown",
   "metadata": {},
   "source": [
    "1. Demonstrate how to wrangle the `Microscope_original_data.csv` in a \"tidy\" form using Pandas\n",
    "\n",
    "2. Using your tidy data, produce a bivariate scatter plot similar to the one shown above showing the relationship between contagiousness and deadliness. Focus on the bivariate relationship, pthe information on type of pathogen (shape of points) and transmission method (color). **Aim for a high quality data visualization.**\n",
    "\n",
    "    IMPORTANT NOTE: there is an an odd combined logarithmic/linear y-axis in the figure shown above -- a poor choice! Don't worry about reproducing this -- instead plot the square root of the case-fatality ratio to make the values between 0 and 10% easier to read.\n",
    "\n",
    "    Nicely laid out text labels can be a challenge but try making a second version of your plot that includes the text labels.  If you're really inspired to give it a shot, you can install Python the library \"adjustText\"[link](https://github.com/Phlya/adjustText) that works with Matplotlib to try and generate nicely laid out labels.\n",
    "\n",
    "  "
   ]
  },
  {
   "cell_type": "code",
   "execution_count": null,
   "metadata": {},
   "outputs": [],
   "source": []
  }
 ],
 "metadata": {
  "kernelspec": {
   "display_name": "Python 3 (ipykernel)",
   "language": "python",
   "name": "python3"
  },
  "language_info": {
   "codemirror_mode": {
    "name": "ipython",
    "version": 3
   },
   "file_extension": ".py",
   "mimetype": "text/x-python",
   "name": "python",
   "nbconvert_exporter": "python",
   "pygments_lexer": "ipython3",
   "version": "3.12.1"
  }
 },
 "nbformat": 4,
 "nbformat_minor": 4
}
