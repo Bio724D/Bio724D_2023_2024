{
 "cells": [
  {
   "cell_type": "markdown",
   "metadata": {},
   "source": [
    "# Problem Set 16: Pandas\n",
    "\n",
    "Author: Paul Magwene\n",
    "\n",
    "- - -"
   ]
  },
  {
   "cell_type": "markdown",
   "metadata": {},
   "source": [
    "## Instructions\n",
    "\n",
    "Create a markdown document within JupyterLab and answer the questions below using code blocks that generate the correct outputs. We encourage you to include explanatory text in your markdown document. \n",
    "\n",
    "Write \"robust\" solutions wherever possible. A good rule of thumb for judging whether your solution is appropriately \"robust\" is to ask yourself \"If I added additional observations or variables to this data set, or if the order of variables changed, would my code still compute the right solution?\"\n",
    "\n",
    "Make sure your markdown is nicely formatted -- use headers, bullets, numbering, etc so that the structure of the document is clear.\n",
    "\n",
    "When completed, title your Jupyter notebook file as follows (replace `XX` with the assignment number, e.g. `01`, `02`, etc):\n",
    "\n",
    "-   `netid-assignment_XX-Spring2024.ipynb`\n",
    "\n",
    "Submit both your markdown file and the generated HTML document via the Assignments submission section on Sakai."
   ]
  },
  {
   "cell_type": "markdown",
   "metadata": {},
   "source": [
    "## Data"
   ]
  },
  {
   "cell_type": "markdown",
   "metadata": {},
   "source": [
    "## Working with a table of features from the Saccharomyces Genome Database (SGD)\n",
    "\n",
    "The file [`SGD_features.tsv`](https://github.com/bio208fs-class/bio208fs-lecture/raw/master/data/SGD_features.tsv) is a tab-delimited file I downloaded from SGD that summarizes key pieces of information about genome features in the budding yeast genome.  The original file can be found here: http://sgd-archive.yeastgenome.org/curation/chromosomal_feature/\n",
    "\n",
    "Here's a short summary of the contents of this file, from the \"SGD_features.README\" document:\n",
    "\n",
    "```\n",
    "1. Information on current chromosomal features in SGD, including Dubious ORFs. \n",
    "Also contains coordinates of intron, exons, and other subfeatures that are located within a chromosomal feature.\n",
    "\n",
    "2. The relationship between subfeatures and the feature in which they\n",
    "are located is identified by the feature name in column #7 (parent\n",
    "feature). For example, the parent feature of the intron found in\n",
    "ACT1/YFL039C will be YFL039C. The parent feature of YFL039C is\n",
    "chromosome 6.\n",
    "\n",
    "3. The coordinates of all features are in chromosomal coordinates.\n",
    "\n",
    "Columns within SGD_features.tab:\n",
    "\n",
    "1.   Primary SGDID (mandatory)\n",
    "2.   Feature type (mandatory)\n",
    "3.   Feature qualifier (optional)\n",
    "4.   Feature name (optional)\n",
    "5.   Standard gene name (optional)\n",
    "6.   Alias (optional, multiples separated by |)\n",
    "7.   Parent feature name (optional)\n",
    "8.   Secondary SGDID (optional, multiples separated by |)\n",
    "9.   Chromosome (optional)\n",
    "10.  Start_coordinate (optional)\n",
    "11.  Stop_coordinate (optional)\n",
    "12.  Strand (optional)\n",
    "13.  Genetic position (optional)\n",
    "14.  Coordinate version (optional)\n",
    "15.  Sequence version (optional)\n",
    "16.  Description (optional)\n",
    "\n",
    "Note that \"chromosome 17\" is the mitochondrial chromosome.\n",
    "```\n"
   ]
  },
  {
   "cell_type": "markdown",
   "metadata": {},
   "source": [
    "Download [`SGD_features.tsv`](https://github.com/bio208fs-class/bio208fs-lecture/raw/master/data/SGD_features.tsv) to your computer and then load it as a DataFrame using the Pandas `read_table` function, specifying the delimiter argument as a tab:"
   ]
  },
  {
   "cell_type": "code",
   "execution_count": null,
   "metadata": {},
   "outputs": [],
   "source": [
    "features = pd.read_table(\"SGD_features.tsv\", sep=\"\\t\")"
   ]
  },
  {
   "cell_type": "markdown",
   "metadata": {},
   "source": [
    "## Problems"
   ]
  },
  {
   "cell_type": "markdown",
   "metadata": {},
   "source": [
    "1. What are the dimensions of this data set?"
   ]
  },
  {
   "cell_type": "markdown",
   "metadata": {},
   "source": [
    "2. What are the names of the variable(columns) in this data set?"
   ]
  },
  {
   "cell_type": "markdown",
   "metadata": {},
   "source": [
    "3. What are the data types of the columns in this data set?\n",
    "   "
   ]
  },
  {
   "cell_type": "markdown",
   "metadata": {},
   "source": [
    "4. How many genome features are recognized in the yeast genome?"
   ]
  },
  {
   "cell_type": "markdown",
   "metadata": {},
   "source": [
    "5. What are the different feature types in the yeast genome?"
   ]
  },
  {
   "cell_type": "markdown",
   "metadata": {},
   "source": [
    "6. Add a new column to your data frame called \"Length\" which represents the length, in nucleotides, of each genomic feature in the dataset.  In this data set the start and stop coordinates of each feature are inclusive, so take that into consideration in your calculation."
   ]
  },
  {
   "cell_type": "markdown",
   "metadata": {},
   "source": [
    "7. Create a histogram showing distribution of lengths of the genome features."
   ]
  },
  {
   "cell_type": "markdown",
   "metadata": {},
   "source": [
    "   8. How  many of the genome features are annotated as \"ORFs\" (open reading frames) (see the Qualifier column of the data set)?"
   ]
  },
  {
   "cell_type": "markdown",
   "metadata": {},
   "source": [
    "9. Create a new DataFrame that includes only the ORF features."
   ]
  },
  {
   "cell_type": "markdown",
   "metadata": {},
   "source": [
    "10. Sort the ORFs from largest to smallest. What are the 5 largest ORFs in the yeast genome?"
   ]
  },
  {
   "cell_type": "markdown",
   "metadata": {},
   "source": [
    "11. Creating histograms of ORF lengths\n",
    "\n",
    "    a. Create a histogram showing the distribution of ORF lengths.\n",
    "    \n",
    "    b. Create another histogram showing the distribution of Log10(ORF Lengths)\n",
    "\n",
    "    For both histograms use an appropriate number of bins.  Do you find one of these histograms more useful for exploring trends or patterns in the data?  Comments on any patterns you find interesting."
   ]
  },
  {
   "cell_type": "markdown",
   "metadata": {},
   "source": [
    "12.  How many of the ORFS are designated as \"Dubious\"? How many are \"Verified\"?"
   ]
  },
  {
   "cell_type": "markdown",
   "metadata": {},
   "source": [
    "13.  Create overlapping histograms comparing the distribution of lengths of dubious ORFs and verified ORFs."
   ]
  },
  {
   "cell_type": "markdown",
   "metadata": {},
   "source": [
    "14. \"Dubious\" and \"Verified\" is not the full set of ORF qualifiers. What are the other Qualifier values?"
   ]
  }
 ],
 "metadata": {
  "kernelspec": {
   "display_name": "Python 3 (ipykernel)",
   "language": "python",
   "name": "python3"
  },
  "language_info": {
   "codemirror_mode": {
    "name": "ipython",
    "version": 3
   },
   "file_extension": ".py",
   "mimetype": "text/x-python",
   "name": "python",
   "nbconvert_exporter": "python",
   "pygments_lexer": "ipython3",
   "version": "3.10.11"
  }
 },
 "nbformat": 4,
 "nbformat_minor": 4
}
