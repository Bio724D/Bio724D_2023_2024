{
 "cells": [
  {
   "cell_type": "markdown",
   "metadata": {},
   "source": [
    "# Problem Set 15: Numpy and Matplotlib\n",
    "\n",
    "Author: Paul Magwene\n",
    "\n",
    "- - -"
   ]
  },
  {
   "cell_type": "markdown",
   "metadata": {},
   "source": [
    "## Instructions\n",
    "\n",
    "Create a markdown document within JupyterLab and answer the questions below using code blocks that generate the correct outputs. We encourage you to include explanatory text in your markdown document. \n",
    "\n",
    "Write \"robust\" solutions wherever possible. A good rule of thumb for judging whether your solution is appropriately \"robust\" is to ask yourself \"If I added additional observations or variables to this data set, or if the order of variables changed, would my code still compute the right solution?\"\n",
    "\n",
    "Make sure your markdown is nicely formatted -- use headers, bullets, numbering, etc so that the structure of the document is clear.\n",
    "\n",
    "When completed, title your Jupyter notebook file as follows (replace `XX` with the assignment number, e.g. `01`, `02`, etc):\n",
    "\n",
    "-   `netid-assignment_XX-Spring2024.ipynb`\n",
    "\n",
    "Submit both your markdown file and the generated HTML document via the Assignments submission section on Sakai."
   ]
  },
  {
   "cell_type": "markdown",
   "metadata": {},
   "source": [
    "## Problems"
   ]
  },
  {
   "cell_type": "markdown",
   "metadata": {},
   "source": [
    "# 1. Modeling logistic growth \n",
    "\n",
    "The logistic growth equation is a commonly used mathematical model of population growth.  It finds application in microbiology, ecology, epidemiology, and other biological sub-fields.\n",
    "\n",
    "The continuous form logistic growth equation is written as a differential equation:\n",
    "\n",
    "$$\n",
    "\\frac{dN}{dt} = N (r - \\frac{r}{k}N )  \n",
    "$$\n",
    "\n",
    "Where $K$ is the carrying capacity and $r$ is the rate of intrinsic growth.\n",
    "\n",
    "If we let\n",
    "\n",
    "$$\n",
    "R_0 = \\frac{K-n_0}{n_0}\n",
    "$$\n",
    "\n",
    "where $n_0$ is the initial population size, and $K$ is the carrying capacity as stated above, then the solution for the differential equation given above is:\n",
    "\n",
    "$$\n",
    "N(t) = \\frac{K}{1 + R_0 e^{-rt}} \n",
    "$$\n",
    "\n",
    "If we evaluate $N(t)$ for a given set of $K$ and $r$ we get a sigmoid curve like this:\n",
    "\n",
    "![logistic](./logistic.png)\n",
    "\n",
    "### Implications of the model\n",
    "\n",
    "From the above equation we can determine a number of other parameters of interest:\n",
    "\n",
    "\n",
    "#### Time to half maximum\n",
    "\n",
    "The time to half-maximum population size ($\\frac{K}{2}$) is:\n",
    "\n",
    "$$\n",
    "t_{1/2} = \\frac{1}{r} \\ln R_0\n",
    "$$\n",
    "\n",
    "####  Maximum growth rate \n",
    "The slope at $t_{1/2}$ is the inflection point of the sigmoid curve and thus the maximum growth rate, $\\mu$, is\n",
    "\n",
    "$$\n",
    "\\mu = \\frac{Kr}{4}\n",
    "$$\n",
    "\n",
    "### Lag\n",
    "The lag, $\\lambda$, is the $x$-intercept for the tangent line at $t_{1/2}$. \n",
    "\n",
    "\\begin{eqnarray*}\n",
    "\\lambda &=& \\frac{1}{r}(\\ln R_0 - 2)\n",
    "\\end{eqnarray*}\n",
    "\n",
    "Notice that the lag, $\\lambda$ is predicted to be inversely related to maximum growth rate $\\mu$.\n",
    "\n",
    "\n"
   ]
  },
  {
   "cell_type": "markdown",
   "metadata": {},
   "source": [
    "## Problems"
   ]
  },
  {
   "cell_type": "markdown",
   "metadata": {},
   "source": [
    "1. Write a vectorized function implementing $N(t)$, as given above.\n",
    "  \n",
    "   Your function should take as input three scalar (non-array) values `r`, `K`, and `n0` and a list or array, `t`.  \n",
    "  \n",
    "   The scalar values will represent the rate of intrinsic growth (`r`), the carrying capacity (`K`), and the initial population size (`n0`).  The list or array `t` will represent time points to evaluate the function at.  \n",
    "\n",
    "   Your function should not employ any for-loops, but rather use vectorized numpy operations. Your function should NOT assume that `t` is already a numpy array, so make any conversions as necessary in the body of your function."
   ]
  },
  {
   "cell_type": "code",
   "execution_count": 1,
   "metadata": {
    "collapsed": false,
    "jupyter": {
     "outputs_hidden": false
    }
   },
   "outputs": [],
   "source": [
    "# function implementing the solution to the logistic growth equation\n",
    "\n",
    "def Nt(r, K, n0, t):\n",
    "    \"\"\"Logistic equation model as function of time.\"\"\"\n",
    "    pass # replace with your implementation\n"
   ]
  },
  {
   "cell_type": "markdown",
   "metadata": {},
   "source": [
    "2. Using matplotlib generate a figure like the one shown below showing how the logistic growth model varies as a function of `r`:\n",
    "\n",
    "![logistic-varies](./logistic-varies.png)\n"
   ]
  },
  {
   "cell_type": "markdown",
   "metadata": {},
   "source": [
    "3. Implement vectorized functions for the time to half max (`tau`), the maximum growth rate (`mu`), and the lag time with the function signatures given below"
   ]
  },
  {
   "cell_type": "code",
   "execution_count": 2,
   "metadata": {},
   "outputs": [],
   "source": [
    "def tau(r, K, n0):\n",
    "    \"\"\"Time to half max (K/2)\"\"\"\n",
    "    pass # replace with your implementation\n",
    "\n",
    "def mu(r, K):\n",
    "    \"\"\"Maximum growth rate (slope)\"\"\"\n",
    "    pass # replace with your implementation\n",
    "\n",
    "def lag(r, K, n0):\n",
    "    \"\"\"lag time (lambda)\"\"\"\n",
    "    pass # replace with your implementation\n"
   ]
  },
  {
   "cell_type": "markdown",
   "metadata": {},
   "source": [
    "4. Using the functions from problem 3, generate the figure below showing the logistic growth equation for K = 1000, r = 0.125  plus  lines indicating the time to half max and the lag time.\n",
    "\n",
    "![logist marked up](./logistic-markedup.png)\n"
   ]
  },
  {
   "cell_type": "markdown",
   "metadata": {},
   "source": [
    "5. **CHALLENGE PROBLEM**: Using your functions from problem 3, generate contour plots showing the relationship lag and r and K, and maximum growth rate and r and K, as shown below.\n",
    "\n",
    "    HINTS: In generating these plots I used :\n",
    "\n",
    "    * `np.meshgrid`, `plt.contour`, `plt.contourf`, and the colormap \"inferno_r\"\n",
    "\n",
    "\n",
    "![logist-contours](./logistic-contours.png)"
   ]
  },
  {
   "cell_type": "code",
   "execution_count": null,
   "metadata": {},
   "outputs": [],
   "source": []
  }
 ],
 "metadata": {
  "kernelspec": {
   "display_name": "Python 3 (ipykernel)",
   "language": "python",
   "name": "python3"
  },
  "language_info": {
   "codemirror_mode": {
    "name": "ipython",
    "version": 3
   },
   "file_extension": ".py",
   "mimetype": "text/x-python",
   "name": "python",
   "nbconvert_exporter": "python",
   "pygments_lexer": "ipython3",
   "version": "3.11.7"
  }
 },
 "nbformat": 4,
 "nbformat_minor": 4
}
