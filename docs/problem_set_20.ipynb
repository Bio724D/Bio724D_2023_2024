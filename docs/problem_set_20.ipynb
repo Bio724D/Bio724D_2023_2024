{
 "cells": [
  {
   "cell_type": "markdown",
   "id": "da033880-42f8-4cd1-bbd1-234d37d2c0b5",
   "metadata": {},
   "source": [
    "# Problem Set 20: Data Visualization\n",
    "\n",
    "Author: Greg Wray  \n",
    "2024-MAR-17\n",
    "\n",
    "## Instructions\n",
    "\n",
    "Create a markdown document within JupyterLab and answer the questions below using code blocks that generate the correct outputs. We encourage you to include explanatory text in your markdown document. \n",
    "\n",
    "Write \"robust\" solutions wherever possible. A good rule of thumb for judging whether your solution is appropriately \"robust\" is to ask yourself \"If I added additional observations or variables to this data set, or if the order of variables changed, would my code still compute the right solution?\"\n",
    "\n",
    "Make sure your markdown is nicely formatted -- use headers, bullets, numbering, etc so that the structure of the document is clear.\n",
    "\n",
    "When completed, title your Jupyter notebook file as follows (replace `XX` with the assignment number, e.g. `01`, `02`, etc):\n",
    "\n",
    "-   `netid-assignment_XX-Spring2024.ipynb`\n",
    "\n",
    "Submit both your markdown file and the generated HTML document via the Assignments submission section on Sakai."
   ]
  },
  {
   "cell_type": "markdown",
   "id": "5415b67b-a801-4590-aa46-4be6d8929ce7",
   "metadata": {},
   "source": [
    "**1.** Locate a graphic in a publication that you think does *not* represent graphical excellence. Provide the reference and figure number. Download or grab a screenshot of the graphic and insert it into your homework notebook. Explain what is not great about the graphic and what you think could be done better. **Bonus:** If you are able to locate the underlying data, download the file and generate the graphic, implementing your suggestions for improvement."
   ]
  },
  {
   "cell_type": "markdown",
   "id": "dd6fed00-2b7c-4a60-b916-9d369d2d7a69",
   "metadata": {},
   "source": [
    "**2.** Building on what you did in class with the `diamonds` dataset, create four separate graphics that each tells a story about the relationship between `carat`, `clarity`, `cut` and `color` on the `price` of a diamond. You may use ggplot2, MatPlotLib, or SeaBorn to write the code. Use component-based design principles, including annotations, to generate graphics that reveal what you think is the most important aspect of each relationship. Take advantage of color, transparency, faceting, or other features if you think it helps to reveal a relationship! Finally, write a 1 sentence description that summarizes each relationship. "
   ]
  },
  {
   "cell_type": "markdown",
   "id": "fdd5f176-b9ab-4b8e-8097-88bacb42db14",
   "metadata": {},
   "source": [
    "**3.** Work on your final project (no response needed). "
   ]
  },
  {
   "cell_type": "markdown",
   "id": "e96db7a1-99de-4cea-aee5-b2385f91103d",
   "metadata": {},
   "source": [
    "**4. Notebook:** Choose something that you learned from lecture, the hands-on coding in class, or your own investigation that you think will be valuable for your future programming endeavors. Using text or a mix of text and code, create an entry for your notebook. Add this to your notebook and include it here. "
   ]
  },
  {
   "cell_type": "markdown",
   "id": "9baf1b7b-d6e4-4263-8e5d-0985b75475b6",
   "metadata": {},
   "source": [
    "**5. Thursday lunch:** Identify something that you learned from the presentation or discussion on Thursday that you found valuable. Provide a brief reflection here (1-5 sentences) and include code or pseudo-code if useful. (Hint: consider adding this to your notebook as well.)"
   ]
  },
  {
   "cell_type": "code",
   "execution_count": null,
   "id": "32026457-0c1d-42b5-bfef-da96a631fbae",
   "metadata": {},
   "outputs": [],
   "source": []
  }
 ],
 "metadata": {
  "kernelspec": {
   "display_name": "Python 3 (ipykernel)",
   "language": "python",
   "name": "python3"
  },
  "language_info": {
   "codemirror_mode": {
    "name": "ipython",
    "version": 3
   },
   "file_extension": ".py",
   "mimetype": "text/x-python",
   "name": "python",
   "nbconvert_exporter": "python",
   "pygments_lexer": "ipython3",
   "version": "3.10.13"
  }
 },
 "nbformat": 4,
 "nbformat_minor": 5
}
