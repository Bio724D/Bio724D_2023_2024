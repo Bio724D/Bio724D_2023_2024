{
 "cells": [
  {
   "cell_type": "markdown",
   "id": "da033880-42f8-4cd1-bbd1-234d37d2c0b5",
   "metadata": {},
   "source": [
    "# Problem Set 19: More SQL\n",
    "\n",
    "Author: Greg Wray  \n",
    "2024-MAR-04\n",
    "\n",
    "## Instructions\n",
    "\n",
    "Create a markdown document within JupyterLab and answer the questions below using code blocks that generate the correct outputs. We encourage you to include explanatory text in your markdown document. \n",
    "\n",
    "Write \"robust\" solutions wherever possible. A good rule of thumb for judging whether your solution is appropriately \"robust\" is to ask yourself \"If I added additional observations or variables to this data set, or if the order of variables changed, would my code still compute the right solution?\"\n",
    "\n",
    "Make sure your markdown is nicely formatted -- use headers, bullets, numbering, etc so that the structure of the document is clear.\n",
    "\n",
    "When completed, title your Jupyter notebook file as follows (replace `XX` with the assignment number, e.g. `01`, `02`, etc):\n",
    "\n",
    "-   `netid-assignment_XX-Spring2024.ipynb`\n",
    "\n",
    "Submit both your markdown file and the generated HTML document via the Assignments submission section on Sakai."
   ]
  },
  {
   "cell_type": "markdown",
   "id": "72f3dd89-ca53-4266-b9fb-49b629e95999",
   "metadata": {
    "jp-MarkdownHeadingCollapsed": true
   },
   "source": [
    "**Specific to this problem set:** Download the files `t_families.csv` and `t_locations.csv` from this week's materials on he course wiki and move them into the working directory. Make sure all of the original 7 `.csv` files are also in the working directory (they are available from last week's materials). Modify the `COPY` statements for the `families` and `locations` tables to read from `t_families.csv` and `t_locations.csv` rather than the `s_` versions. Then run the code blocks from this week's notebook to re-create the birding database."
   ]
  },
  {
   "cell_type": "markdown",
   "id": "056532fe-fee0-490b-84d7-2d5f275e1144",
   "metadata": {},
   "source": [
    "**1.** Although the birding database is in third normal form, we can make the data safer by imposing some additional constraints. (1) To remind yourself how this works, add back the foreign key constraint that we covered in class. Now that you know what the conflict is, this should be straighforward. (2) Next add a foreign key constraint for `order_ioc` column of the `families` table that links to the column of the same name in the `orders` table. There is a single conflict that you will need to resolve. Identify what that is. To figure out which value is the correct one, google or visit the [IOC webpage](https://www.worldbirdnames.org/new/) and click on the 'Classification' menu to access a list of correct family and order names. Show the code for fixing the problem and successfully adding the constraint."
   ]
  },
  {
   "cell_type": "markdown",
   "id": "9d9b5f15-ca99-476f-bd40-3764c9295d7c",
   "metadata": {},
   "source": [
    "**2.** The IOC recieves proposals from taxonomists to revise groups based on phylogenetic analyses and (in the case of species boundaries) based on fieldwork. These proposals are evaluated by a panel of experts and some are eventually approved. Imagine that the panel approves a proposal to move the Crested Treeswift into a separate genus. Currently, the four species of treeswifts all belong to the genus *Hemiprocne*. The proposal is to move the Crested Treeswift, *H. coronata*, to a separate genus *Dendrochelidon* to reflect its phylogenetic position and distance from other other three species. (1) Identify which tables will need to updated to accommodate this change. (2) Show the code for making the needed changes."
   ]
  },
  {
   "cell_type": "markdown",
   "id": "dd6fed00-2b7c-4a60-b916-9d369d2d7a69",
   "metadata": {},
   "source": [
    "**3.** The final SQL problem builds on the camera trap database that you designed in class. For the following steps, show the code you used. (1) Create the tables. (2) Add at least 3 single-table constraints other than the primary keys and at least one foreign key that you think will help to maintain the integrity of data. Explain your reasoning. (3) Append at least 3 rows of sample data to each table. (4) Create a query to count the number of images recorded on a given night and a query to list all the images for a given mammal species."
   ]
  },
  {
   "cell_type": "markdown",
   "id": "e96db7a1-99de-4cea-aee5-b2385f91103d",
   "metadata": {},
   "source": [
    "**4. Notebook:** Choose something that you learned from lecture, the hands-on coding in class, or your own investigation that you think will be valuable for your future programming endeavors. Using text or a mix of text and code, create an entry for your notebook. Add this to your notebook and include it here. "
   ]
  },
  {
   "cell_type": "markdown",
   "id": "9baf1b7b-d6e4-4263-8e5d-0985b75475b6",
   "metadata": {},
   "source": [
    "**5. Thursday lunch:** Identify something that you learned from the presentation or discussion on Thursday that you found valuable. Provide a brief reflection here (1-5 sentences) and include code or pseudo-code if useful. (Hint: consider adding this to your notebook as well.)"
   ]
  },
  {
   "cell_type": "markdown",
   "id": "bbc0c332-20c3-4b5a-8788-5136bf41b76d",
   "metadata": {},
   "source": [
    "**6. Bonus:** Finish the final problem in the in-class assignment. Show the code for producing the graph of cumulative observations. And (super-bonus) the graph of accumulated new species observed."
   ]
  },
  {
   "cell_type": "code",
   "execution_count": null,
   "id": "32026457-0c1d-42b5-bfef-da96a631fbae",
   "metadata": {},
   "outputs": [],
   "source": []
  }
 ],
 "metadata": {
  "kernelspec": {
   "display_name": "Python 3 (ipykernel)",
   "language": "python",
   "name": "python3"
  },
  "language_info": {
   "codemirror_mode": {
    "name": "ipython",
    "version": 3
   },
   "file_extension": ".py",
   "mimetype": "text/x-python",
   "name": "python",
   "nbconvert_exporter": "python",
   "pygments_lexer": "ipython3",
   "version": "3.10.13"
  }
 },
 "nbformat": 4,
 "nbformat_minor": 5
}
