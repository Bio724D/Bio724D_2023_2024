{
 "cells": [
  {
   "cell_type": "markdown",
   "metadata": {},
   "source": [
    "## Reading and writing from files\n",
    "\n",
    "The `open` function is the standard way to gain access to a file on your filesystem.  Files can be opened for reading only, writing, or both reading and writing.  By default files are opened in read only mode.  The primary argument to the `open` function is a string giving the path and name of the file you want to open:"
   ]
  },
  {
   "cell_type": "code",
   "execution_count": 1,
   "metadata": {},
   "outputs": [],
   "source": [
    "### open function and file objects\n",
    "\n",
    "## You can download `covid-ref.fsa` from the course repository at \n",
    "##    https://github.com/Bio724D/Bio724D_2023_2024/tree/main/data\n",
    "f = open(\"covid-ref.fsa\")"
   ]
  },
  {
   "cell_type": "markdown",
   "metadata": {},
   "source": [
    "The simplest way to manipulate a file is simply to read all the information from it, return the data in the file as a string:"
   ]
  },
  {
   "cell_type": "code",
   "execution_count": 2,
   "metadata": {},
   "outputs": [],
   "source": [
    "### reading everything from a file as a single string\n",
    "s = f.read()"
   ]
  },
  {
   "cell_type": "markdown",
   "metadata": {},
   "source": [
    "Once you've read what you need from the file it's good practice to close it (failing to close a file can lead to a memory leak in some contexts, but it's usually not a problem in an interactive environment like Jupyter notebooks)."
   ]
  },
  {
   "cell_type": "code",
   "execution_count": 3,
   "metadata": {},
   "outputs": [],
   "source": [
    "f.close()"
   ]
  },
  {
   "cell_type": "markdown",
   "metadata": {},
   "source": [
    "An alternate way to read a file is within a `with` statement as illustrated below.  The advantage of the `with` function is it insures you're file is closed (i.e. you don't need to explicitly call the `close` method)."
   ]
  },
  {
   "cell_type": "code",
   "execution_count": 5,
   "metadata": {},
   "outputs": [],
   "source": [
    "with open(\"covid-ref.fsa\") as f:\n",
    "    s = f.read()"
   ]
  },
  {
   "cell_type": "markdown",
   "metadata": {},
   "source": [
    "Once we've read the file into a string we can apply all the standard string methods and operators to it:"
   ]
  },
  {
   "cell_type": "code",
   "execution_count": 6,
   "metadata": {},
   "outputs": [
    {
     "data": {
      "text/plain": [
       "30429"
      ]
     },
     "execution_count": 6,
     "metadata": {},
     "output_type": "execute_result"
    }
   ],
   "source": [
    "len(s)  ## how many characters were in the file?"
   ]
  },
  {
   "cell_type": "code",
   "execution_count": 7,
   "metadata": {},
   "outputs": [
    {
     "data": {
      "text/plain": [
       "'>NC_045512.2 Severe acute respiratory syndrome cor'"
      ]
     },
     "execution_count": 7,
     "metadata": {},
     "output_type": "execute_result"
    }
   ],
   "source": [
    "s[:50]  ## first 50 chars in the file"
   ]
  },
  {
   "cell_type": "markdown",
   "metadata": {},
   "source": [
    "## Reading a file by lines\n",
    "\n",
    "Sometimes it's more convenient or more efficient to get the information in the file in terms of lines.  The `readlines` method associated with file object read's all the lines at once in a list:"
   ]
  },
  {
   "cell_type": "code",
   "execution_count": 7,
   "metadata": {},
   "outputs": [],
   "source": [
    "## return a list of the lines in the file\n",
    "with open(\"./covid-ref.fsa\") as f:\n",
    "    lines = f.readlines()"
   ]
  },
  {
   "cell_type": "code",
   "execution_count": 8,
   "metadata": {},
   "outputs": [
    {
     "data": {
      "text/plain": [
       "430"
      ]
     },
     "execution_count": 8,
     "metadata": {},
     "output_type": "execute_result"
    }
   ],
   "source": [
    "len(lines)"
   ]
  },
  {
   "cell_type": "code",
   "execution_count": 9,
   "metadata": {},
   "outputs": [
    {
     "data": {
      "text/plain": [
       "'>NC_045512.2 Severe acute respiratory syndrome coronavirus 2 isolate Wuhan-Hu-1, complete genome\\n'"
      ]
     },
     "execution_count": 9,
     "metadata": {},
     "output_type": "execute_result"
    }
   ],
   "source": [
    "lines[0]"
   ]
  },
  {
   "cell_type": "code",
   "execution_count": 10,
   "metadata": {},
   "outputs": [
    {
     "data": {
      "text/plain": [
       "'ATTAAAGGTTTATACCTTCCCAGGTAACAAACCAACCAACTTTCGATCTCTTGTAGATCTGTTCTCTAAA\\n'"
      ]
     },
     "execution_count": 10,
     "metadata": {},
     "output_type": "execute_result"
    }
   ],
   "source": [
    "lines[1]"
   ]
  },
  {
   "cell_type": "markdown",
   "metadata": {},
   "source": [
    "## Reading a file one line at a time"
   ]
  },
  {
   "cell_type": "markdown",
   "metadata": {},
   "source": [
    "The `readlines` function illustrated above reads all the lines at once. That's works well if your file has a modest number of lines, but for a file with millions of lines (or very long single lines)  `readlines` might exhaust the memory of your computer.  One way to work around this is to process files line by line, reading only one line at a time.  This can be done with a for loop applied directly to the file object:"
   ]
  },
  {
   "cell_type": "code",
   "execution_count": 11,
   "metadata": {},
   "outputs": [
    {
     "data": {
      "text/plain": [
       "[97, 71, 71, 71, 71, 71, 71, 71, 71, 71]"
      ]
     },
     "execution_count": 11,
     "metadata": {},
     "output_type": "execute_result"
    }
   ],
   "source": [
    "with open(\"./covid-ref.fsa\") as f:\n",
    "    nchars = []\n",
    "    for line in f:\n",
    "        nchars.append(len(line)) # let's pretend our task was to count line lengths for files w/millions of lines\n",
    "\n",
    "nchars[:10]  # the first chars "
   ]
  },
  {
   "cell_type": "markdown",
   "metadata": {},
   "source": [
    "For such a simple computation we'd typically use a list comprehension:"
   ]
  },
  {
   "cell_type": "code",
   "execution_count": 12,
   "metadata": {},
   "outputs": [
    {
     "data": {
      "text/plain": [
       "[97, 71, 71, 71, 71, 71, 71, 71, 71, 71]"
      ]
     },
     "execution_count": 12,
     "metadata": {},
     "output_type": "execute_result"
    }
   ],
   "source": [
    "with open(\"./covid-ref.fsa\") as f:\n",
    "    nchars = [len(line) for line in f]\n",
    "\n",
    "nchars[:10] "
   ]
  },
  {
   "cell_type": "markdown",
   "metadata": {},
   "source": [
    "# The FASTA file format for sequence data\n",
    "\n",
    "The FASTA file format is the most commonly used file format used to represent nucleotide and protein sequence data.  Wikipedia has a good [overview of the FASTA format](https://en.wikipedia.org/wiki/FASTA_format).  \n",
    "\n",
    "Summary of FASTA format:\n",
    " \n",
    " * Each file can hold one or more sequence records\n",
    " \n",
    " * The beginning of each record is delimited by a line called a header, which has a `>` character at the beginning, followed by the name associated with that record (and an optional description). For example `>seq1 Involved in...` would indicate the beginning of a record with the name `seq1` and the description \"Involved in...\".\n",
    " \n",
    " * On or more sequence lines follow header lines.  These lines are usually wrapped to have length <=80 characters but this is not required.\n",
    "\n"
   ]
  },
  {
   "cell_type": "markdown",
   "metadata": {},
   "source": [
    "Below is a simple function that will parse a FASTA file, returning each record as an element in a Python dictionary with the first word in the header line of each record as the key. \n",
    "\n",
    "This implementation isn't particularly robust or optimal, but illustrates some key aspects of flow-control in Python and parsing non-tabular data.\n"
   ]
  },
  {
   "cell_type": "code",
   "execution_count": 8,
   "metadata": {},
   "outputs": [],
   "source": [
    "def parse_FASTA(fname):\n",
    "    record_dict = {}\n",
    "    f = open(fname, 'r')\n",
    "    \n",
    "    recname = \"\"           # will hold names of records\n",
    "    seq = \"\"               # will hold seq strings\n",
    "    active_record = False  # indicates whether we are currently working on building a record\n",
    "    \n",
    "    for line in f.readlines():\n",
    "        \n",
    "        line = line.strip()  # strip any whitespace at beginning/end of line\n",
    "        \n",
    "        if line == \"\":       # empty line\n",
    "            continue         # go to next iteration of for loop\n",
    "            \n",
    " \n",
    "        if line[0] == \">\":                 # are we dealing with a new record?\n",
    "            if active_record:              # did we already have an active record?\n",
    "                record_dict[recname] = seq # if so, add to old active record to the dict so we can\n",
    "                                           # begin a new one \n",
    "            \n",
    "            recname = line[1:].split()[0]  # name of new record\n",
    "            seq = \"\"                       # reset variable holding the string\n",
    "            active_record = True           # set flag to indicate we now have an active record\n",
    "            continue                       # go to the next iteration of for loop, as there's nothing else to do\n",
    "        \n",
    "        seq += line\n",
    "        \n",
    "    if active_record:               # if we've exhausted all the lines, we might still have an active record\n",
    "        record_dict[recname] = seq  # if so, add it to the dict\n",
    "\n",
    "    f.close() # remember to close the file!\n",
    "\n",
    "    return record_dict\n",
    "        \n",
    "            "
   ]
  },
  {
   "cell_type": "markdown",
   "metadata": {},
   "source": [
    "To test our `parse_FASTA` function download the [`Spike-protein-aligned.fasta`](https://github.com/Bio724D/Bio724D_2023_2024/tree/main/data/Spike-protein-aligned.fasta) file  above to your computer and modify the lines below to load and parse the sequence records contained in that file."
   ]
  },
  {
   "cell_type": "code",
   "execution_count": 9,
   "metadata": {},
   "outputs": [],
   "source": [
    "recs = parse_FASTA(\"./Spike-protein-aligned.fasta\")"
   ]
  },
  {
   "cell_type": "code",
   "execution_count": 10,
   "metadata": {},
   "outputs": [
    {
     "data": {
      "text/plain": [
       "dict"
      ]
     },
     "execution_count": 10,
     "metadata": {},
     "output_type": "execute_result"
    }
   ],
   "source": [
    "type(recs)"
   ]
  },
  {
   "cell_type": "code",
   "execution_count": 11,
   "metadata": {},
   "outputs": [
    {
     "data": {
      "text/plain": [
       "7"
      ]
     },
     "execution_count": 11,
     "metadata": {},
     "output_type": "execute_result"
    }
   ],
   "source": [
    "len(recs)"
   ]
  },
  {
   "cell_type": "code",
   "execution_count": 12,
   "metadata": {},
   "outputs": [
    {
     "data": {
      "text/plain": [
       "['KF367457.1',\n",
       " 'AY278488.2',\n",
       " 'NC_004718.3',\n",
       " 'MG772933.1',\n",
       " 'MT040333.1',\n",
       " 'MN908947.3',\n",
       " 'MN996532.1']"
      ]
     },
     "execution_count": 12,
     "metadata": {},
     "output_type": "execute_result"
    }
   ],
   "source": [
    "list(recs.keys())  # get a list of the keys in recs"
   ]
  },
  {
   "cell_type": "code",
   "execution_count": 13,
   "metadata": {},
   "outputs": [
    {
     "data": {
      "text/plain": [
       "'M-FVFLVL-L'"
      ]
     },
     "execution_count": 13,
     "metadata": {},
     "output_type": "execute_result"
    }
   ],
   "source": [
    "recs[\"MN996532.1\"][:10]  # get the first 10 characters in the sequence for the record with this name"
   ]
  },
  {
   "cell_type": "code",
   "execution_count": 15,
   "metadata": {},
   "outputs": [
    {
     "name": "stdout",
     "output_type": "stream",
     "text": [
      "MKLLVLVF-ATLVSSYTIEKCLDFD\n",
      "M-FIFLLF-LTLTSGSDLDRCTTFD\n",
      "M-FIFLLF-LTLTSGSDLDRCTTFD\n",
      "M-LFFLFLQFALVNS----QCVNLT\n",
      "M-FVFLFV-LPLVSS----QCVNLT\n",
      "M-FVFLVL-LPLVSS----QCVNLT\n",
      "M-FVFLVL-LPLVSS----QCVNLT\n"
     ]
    }
   ],
   "source": [
    "# print the first 25 positions in the alignment for all the recrods\n",
    "for key in recs.keys():\n",
    "    print(recs[key][:25])"
   ]
  },
  {
   "cell_type": "code",
   "execution_count": null,
   "metadata": {},
   "outputs": [],
   "source": [
    "spikes = parse_FASTA(\"./spi\")"
   ]
  }
 ],
 "metadata": {
  "kernelspec": {
   "display_name": "Python 3",
   "language": "python",
   "name": "python3"
  },
  "language_info": {
   "codemirror_mode": {
    "name": "ipython",
    "version": 3
   },
   "file_extension": ".py",
   "mimetype": "text/x-python",
   "name": "python",
   "nbconvert_exporter": "python",
   "pygments_lexer": "ipython3",
   "version": "3.10.11"
  }
 },
 "nbformat": 4,
 "nbformat_minor": 4
}
