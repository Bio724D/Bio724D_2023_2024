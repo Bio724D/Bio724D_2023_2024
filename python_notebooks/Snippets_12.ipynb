{
 "cells": [
  {
   "cell_type": "raw",
   "id": "2c55e46f-0bf6-4c9a-b7bb-f459bf16379f",
   "metadata": {},
   "source": [
    "## Code snippets for lecture 12  \n",
    "\n",
    "Feel free to edit and run code in this notebook during lecture. \n",
    "\n",
    "Modify and experiment! Consider adding comments to record your findings. \n",
    "\n",
    "#### Quick orientation to Jupyter notebooks:\n",
    "Icons directly above windows provide most basic functions (mouse over for descriptions).   \n",
    "To select a cell either: click to its left or directly on the gray box.  \n",
    "The currently selected cell is indicated by a blue bar at the left; a white background means you can edit.  \n",
    "To run code in a cell, select it, then press the play icon or `shift-return`.    \n",
    "To edit code in a cell, select it and then click to position the cursor; you can then modify the text as you wish.  \n",
    "To add, move, or delete a cell, select it and then use the icons at the upper right (mouse over for descriptions).  \n",
    "To change a cell from code to markdown (or vice versa), select it and use the drop-down menu."
   ]
  },
  {
   "cell_type": "raw",
   "id": "2180dfb9-4840-44cb-b496-aef1d73e6cc8",
   "metadata": {},
   "source": [
    "# simple assignment\n",
    "\n",
    "my_int = 42\n",
    "\n",
    "my_bool = True"
   ]
  },
  {
   "cell_type": "raw",
   "id": "ad285da5-48c2-40f7-9290-3586f0bd5b3d",
   "metadata": {},
   "source": [
    "# assignment to string\n",
    "\n",
    "my_string = 'Hello world!'\n",
    "\n",
    "long_string = 'There is grandeur in this view of life, with its several powers, having been originally breathed into a few forms or into one; and that, whilst this planet has gone cycling on according to the fixed law of gravity, from so simple a beginning endless forms most beautiful and most wonderful have been, and are being, evolved.'"
   ]
  },
  {
   "cell_type": "raw",
   "id": "f686a745-3820-4582-831b-9c984469a462",
   "metadata": {},
   "source": [
    "# assignment to list\n",
    "\n",
    "my_list = [1, 2, 3, 4]\n",
    "\n",
    "my_list = ['guanine', 'adenosine', 'cytosine', 'thymidine']"
   ]
  },
  {
   "cell_type": "raw",
   "id": "dd6614bc-219d-4665-927c-a21fc3e2de29",
   "metadata": {},
   "source": [
    "# printing results\n",
    "\n",
    "print(my_int, my_bool)\n",
    "\n",
    "print(my_string)\n",
    "\n",
    "print(my_list)\n",
    "\n",
    "print(type(my_var))       \n",
    "\n",
    "len(long_string)"
   ]
  },
  {
   "cell_type": "raw",
   "id": "99ffaf7e-4dd6-4776-a30d-e75a2e7f36ce",
   "metadata": {},
   "source": [
    "# simple expressions\n",
    "\n",
    "print(1 + 1 < 5)\n",
    "\n",
    "print(42 % 7 == 0)\n",
    "\n",
    "print('uracil' in my_list)"
   ]
  },
  {
   "cell_type": "raw",
   "id": "2e535b8f-97c0-427c-a0b1-dfff1183cbde",
   "metadata": {},
   "source": [
    "# mutable and immutable objects\n",
    "\n",
    "# create a mutable object and assign it to a new variable name\n",
    "my_list = [1, 2, 3, 4, 5]\n",
    "new_list = my_list\n",
    "\n",
    "# now modify the new variable and print out both\n",
    "new_list[1] = 'fjords'\n",
    "print(my_list)\n",
    "print(new_list)\n",
    "\n",
    "# now try the same process with an immutable object\n",
    "my_tuple = (1, 2, 3, 4, 5)\n",
    "new_tuple = my_tuple\n",
    "\n",
    "new_tuple[1] = 'fjords'\n"
   ]
  },
  {
   "cell_type": "raw",
   "id": "8a7600e3-db48-4fb2-aaa0-bf7264c5c26d",
   "metadata": {},
   "source": [
    "# functions with mutable and immutable objects\n",
    "\n",
    "# apply sort to a mutable object\n",
    "my_list = [3, 1, 5, 2, 4]\n",
    "my_list.sort() \n",
    "output = my_list.sort()\n",
    "print(my_list)\n",
    "print(output)\n",
    "\n",
    "# now apply sort to an immutable object\n",
    "my_tuple = (3, 1, 5, 2, 4)\n",
    "my_tuple.sort()  \n"
   ]
  },
  {
   "cell_type": "raw",
   "id": "cb91a962-64d2-4cdc-80e9-50e3ca1ef9cb",
   "metadata": {
    "tags": []
   },
   "source": [
    "# indexing\n",
    "\n",
    "# create a list\n",
    "my_obj = [12, 7, 23, 0, 8, -2, 4, 5]\n",
    "\n",
    "# now extract items using indexing\n",
    "my_obj[1]\n",
    "my_obj[0:1]\n",
    "my_obj[3:]\n",
    "my_obj[:2]\n",
    "my_obj[-1]\n",
    "my_obj[0:8:3]\n",
    "my_obj[-1:0:-1]\n",
    "my_obj[::-1]"
   ]
  },
  {
   "cell_type": "raw",
   "id": "1cb1a214-84f3-41bf-9bb5-07675274a06d",
   "metadata": {},
   "source": [
    "# calling functions and methods\n",
    "\n",
    "# create a list and call a function\n",
    "my_list = [5, 3, 1, 2, 4]\n",
    "function_result = len(my_list)        \n",
    "print(function_result)               \n",
    "\n",
    "# now call a method\n",
    "my_list.sort()                        \n",
    "print(my_list)                        \n",
    "my_string = 'hello world'\n",
    "my_string.sort()                     \n",
    "\n"
   ]
  },
  {
   "cell_type": "raw",
   "id": "02102585-d1d1-45fa-a57b-32b1e7d9641c",
   "metadata": {},
   "source": [
    "# flow control template:  if / else \n",
    "\n",
    "# test for life stage of frogs\n",
    "gills = False\n",
    "if gills == True :\n",
    "    cohort = 'tadpole'\n",
    "else : \n",
    "    cohort = 'adult'\n",
    "print('Cohort is: ', cohort)"
   ]
  },
  {
   "cell_type": "raw",
   "id": "1c948ff0-051a-4afd-aa13-ab99da85525e",
   "metadata": {},
   "source": [
    "# flow control template: for loop\n",
    "\n",
    "# print out names of study group\n",
    "study_group = ['Athena', 'Thor', 'Ra'] \n",
    "for x in study_group :\n",
    "    print('id num:', study_group.index(x), '  name:', x)\n",
    "num = len(study_group)\n",
    "print('total individuals =', num)"
   ]
  },
  {
   "cell_type": "raw",
   "id": "bdf85d12-b874-4b66-8c29-f5bba8f1a661",
   "metadata": {},
   "source": [
    "# create a function to test whether 7 is a factor\n",
    "\n",
    "def is_div_by_7(input_value) :\n",
    "    if input_value % 7 == 0 : return True\n",
    "    else: return False \n",
    "\n",
    "# call the function\n",
    "result_1 = is_div_by_7(3)\n",
    "result_2 = is_div_by_7(42)\n",
    "print(result_1, result_2)                "
   ]
  },
  {
   "cell_type": "raw",
   "id": "75d76dd7-9fa9-4b29-9405-6d23f6d9082f",
   "metadata": {},
   "source": [
    "# "
   ]
  }
 ],
 "metadata": {
  "kernelspec": {
   "display_name": "Python 3 (ipykernel)",
   "language": "python",
   "name": "python3"
  },
  "language_info": {
   "codemirror_mode": {
    "name": "ipython",
    "version": 3
   },
   "file_extension": ".py",
   "mimetype": "text/x-python",
   "name": "python",
   "nbconvert_exporter": "python",
   "pygments_lexer": "ipython3",
   "version": "3.10.9"
  }
 },
 "nbformat": 4,
 "nbformat_minor": 5
}
