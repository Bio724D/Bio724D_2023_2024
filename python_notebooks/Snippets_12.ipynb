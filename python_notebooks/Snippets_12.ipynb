{
 "cells": [
  {
   "cell_type": "markdown",
   "id": "0b64b145-7990-49c6-b461-280cc577cc68",
   "metadata": {},
   "source": [
    "## code snippets for lecture 12  \n",
    "\n",
    "Feel free to run code in this notebook during lecture. Modify and experiment!"
   ]
  },
  {
   "cell_type": "code",
   "execution_count": 8,
   "id": "2761365f-b6f2-4dd0-878e-fda80bb6c4c7",
   "metadata": {},
   "outputs": [],
   "source": [
    "# simple assignment\n",
    "\n",
    "my_var = 42\n",
    "\n",
    "my_var = True"
   ]
  },
  {
   "cell_type": "code",
   "execution_count": null,
   "id": "b2ac9689-648e-4827-9439-fdce5053e65d",
   "metadata": {},
   "outputs": [],
   "source": [
    "# assignment to string\n",
    "\n",
    "my_string = 'Hello world!'\n",
    "\n",
    "long_string = 'There is grandeur in this view of life, with its several powers, having been originally breathed into a few forms or into one; and that, whilst this planet has gone cycling on according to the fixed law of gravity, from so simple a beginning endless forms most beautiful and most wonderful have been, and are being, evolved.'"
   ]
  },
  {
   "cell_type": "code",
   "execution_count": null,
   "id": "05315df0-4c18-4eaf-b7f9-259872f41f12",
   "metadata": {},
   "outputs": [],
   "source": [
    "# assignment to list\n",
    "\n",
    "my_list = [1, 2, 3, 4]\n",
    "\n",
    "my_list = ['guanine', 'adenosine', 'cytosine', 'thymidine']"
   ]
  },
  {
   "cell_type": "code",
   "execution_count": 12,
   "id": "4589e751-7f1e-412e-947a-0916bfca03a5",
   "metadata": {},
   "outputs": [
    {
     "name": "stdout",
     "output_type": "stream",
     "text": [
      "True\n",
      "['guanine', 'adenosine', 'cytosine', 'thymidine']\n"
     ]
    },
    {
     "data": {
      "text/plain": [
       "bool"
      ]
     },
     "execution_count": 12,
     "metadata": {},
     "output_type": "execute_result"
    }
   ],
   "source": [
    "# printing results\n",
    "\n",
    "print(my_var)\n",
    "\n",
    "print(my_list)\n",
    "\n",
    "type(my_var)"
   ]
  },
  {
   "cell_type": "code",
   "execution_count": 13,
   "id": "4a5cd7c4-973a-436a-85dd-2734af824445",
   "metadata": {},
   "outputs": [
    {
     "name": "stdout",
     "output_type": "stream",
     "text": [
      "True\n",
      "True\n",
      "False\n"
     ]
    }
   ],
   "source": [
    "# simple expressions\n",
    "\n",
    "print(1 + 1 < 5)\n",
    "\n",
    "print(42 % 7 == 0)\n",
    "\n",
    "print('uracil' in my_list)"
   ]
  },
  {
   "cell_type": "code",
   "execution_count": 14,
   "id": "3a02351a-5e18-4832-a6f3-f99bef871426",
   "metadata": {},
   "outputs": [
    {
     "name": "stdout",
     "output_type": "stream",
     "text": [
      "[1, 'fjords', 3, 4, 5]\n",
      "[1, 'fjords', 3, 4, 5]\n"
     ]
    },
    {
     "ename": "TypeError",
     "evalue": "'tuple' object does not support item assignment",
     "output_type": "error",
     "traceback": [
      "\u001b[0;31m---------------------------------------------------------------------------\u001b[0m",
      "\u001b[0;31mTypeError\u001b[0m                                 Traceback (most recent call last)",
      "Cell \u001b[0;32mIn[14], line 15\u001b[0m\n\u001b[1;32m     12\u001b[0m my_tuple \u001b[38;5;241m=\u001b[39m (\u001b[38;5;241m1\u001b[39m, \u001b[38;5;241m2\u001b[39m, \u001b[38;5;241m3\u001b[39m, \u001b[38;5;241m4\u001b[39m, \u001b[38;5;241m5\u001b[39m)\n\u001b[1;32m     13\u001b[0m new_tuple \u001b[38;5;241m=\u001b[39m my_tuple\n\u001b[0;32m---> 15\u001b[0m new_tuple[\u001b[38;5;241m1\u001b[39m] \u001b[38;5;241m=\u001b[39m \u001b[38;5;124m'\u001b[39m\u001b[38;5;124mfjords\u001b[39m\u001b[38;5;124m'\u001b[39m\n",
      "\u001b[0;31mTypeError\u001b[0m: 'tuple' object does not support item assignment"
     ]
    }
   ],
   "source": [
    "# mutable and immutable objects\n",
    "\n",
    "# assign an existing mutable object\n",
    "my_list = [1, 2, 3,4, 5]\n",
    "new_list = my_list\n",
    "\n",
    "new_list[1] = 'fjords'\n",
    "print(my_list)\n",
    "print(new_list)\n",
    "\n",
    "# now try with an immutable object\n",
    "my_tuple = (1, 2, 3, 4, 5)\n",
    "new_tuple = my_tuple\n",
    "\n",
    "new_tuple[1] = 'fjords'\n"
   ]
  },
  {
   "cell_type": "code",
   "execution_count": 16,
   "id": "6406cd3e-bc32-4939-b566-56a83f7a0892",
   "metadata": {},
   "outputs": [
    {
     "name": "stdout",
     "output_type": "stream",
     "text": [
      "[1, 2, 3, 4, 5]\n",
      "None\n"
     ]
    },
    {
     "ename": "AttributeError",
     "evalue": "'tuple' object has no attribute 'sort'",
     "output_type": "error",
     "traceback": [
      "\u001b[0;31m---------------------------------------------------------------------------\u001b[0m",
      "\u001b[0;31mAttributeError\u001b[0m                            Traceback (most recent call last)",
      "Cell \u001b[0;32mIn[16], line 13\u001b[0m\n\u001b[1;32m     11\u001b[0m \u001b[38;5;66;03m# now apply sort to an immutable object\u001b[39;00m\n\u001b[1;32m     12\u001b[0m my_tuple \u001b[38;5;241m=\u001b[39m (\u001b[38;5;241m3\u001b[39m, \u001b[38;5;241m1\u001b[39m, \u001b[38;5;241m5\u001b[39m, \u001b[38;5;241m2\u001b[39m, \u001b[38;5;241m4\u001b[39m)\n\u001b[0;32m---> 13\u001b[0m \u001b[43mmy_tuple\u001b[49m\u001b[38;5;241;43m.\u001b[39;49m\u001b[43msort\u001b[49m()\n",
      "\u001b[0;31mAttributeError\u001b[0m: 'tuple' object has no attribute 'sort'"
     ]
    }
   ],
   "source": [
    "# functions with mutable and immutable objects\n",
    "\n",
    "# apply sort to a mutable object\n",
    "my_list = [3, 1, 5, 2, 4]\n",
    "my_list.sort() \n",
    "output = my_list.sort()\n",
    "\n",
    "print(my_list)\n",
    "print(output)\n",
    "\n",
    "# now apply sort to an immutable object\n",
    "my_tuple = (3, 1, 5, 2, 4)\n",
    "my_tuple.sort()  \n"
   ]
  },
  {
   "cell_type": "code",
   "execution_count": 18,
   "id": "6937dc59-4236-4f38-b28f-0b195b3f6f1f",
   "metadata": {
    "tags": []
   },
   "outputs": [
    {
     "data": {
      "text/plain": [
       "[5, 4, -2, 8, 0, 23, 7, 12]"
      ]
     },
     "execution_count": 18,
     "metadata": {},
     "output_type": "execute_result"
    }
   ],
   "source": [
    "# indexing\n",
    "\n",
    "# create a list\n",
    "my_obj = [12, 7, 23, 0, 8, -2, 4, 5]\n",
    "\n",
    "# now extract items using indexing\n",
    "my_obj[1]\n",
    "my_obj[0:1]\n",
    "my_obj[3:]\n",
    "my_obj[:2]\n",
    "my_obj[-1]\n",
    "my_obj[0:8:3]\n",
    "my_obj[-1:0:-1]\n",
    "my_obj[::-1]"
   ]
  },
  {
   "cell_type": "code",
   "execution_count": 19,
   "id": "9db8407b-1344-4acf-9e65-23e6cd7af67b",
   "metadata": {},
   "outputs": [
    {
     "name": "stdout",
     "output_type": "stream",
     "text": [
      "5\n",
      "[1, 2, 3, 4, 5]\n"
     ]
    },
    {
     "ename": "AttributeError",
     "evalue": "'str' object has no attribute 'sort'",
     "output_type": "error",
     "traceback": [
      "\u001b[0;31m---------------------------------------------------------------------------\u001b[0m",
      "\u001b[0;31mAttributeError\u001b[0m                            Traceback (most recent call last)",
      "Cell \u001b[0;32mIn[19], line 12\u001b[0m\n\u001b[1;32m     10\u001b[0m \u001b[38;5;28mprint\u001b[39m(my_list)                        \n\u001b[1;32m     11\u001b[0m my_string \u001b[38;5;241m=\u001b[39m \u001b[38;5;124m'\u001b[39m\u001b[38;5;124mhello world\u001b[39m\u001b[38;5;124m'\u001b[39m\n\u001b[0;32m---> 12\u001b[0m \u001b[43mmy_string\u001b[49m\u001b[38;5;241;43m.\u001b[39;49m\u001b[43msort\u001b[49m()\n",
      "\u001b[0;31mAttributeError\u001b[0m: 'str' object has no attribute 'sort'"
     ]
    }
   ],
   "source": [
    "# calling functions and methods\n",
    "\n",
    "# create a list and call a function\n",
    "my_list = [5, 3, 1, 2, 4]\n",
    "function_result = len(my_list)        \n",
    "print(function_result)               \n",
    "\n",
    "# now call a method\n",
    "my_list.sort()                        \n",
    "print(my_list)                        \n",
    "my_string = 'hello world'\n",
    "my_string.sort()                     \n",
    "\n"
   ]
  },
  {
   "cell_type": "code",
   "execution_count": 23,
   "id": "785e0f99-64d5-4062-b32a-503ed3c10beb",
   "metadata": {},
   "outputs": [
    {
     "name": "stdout",
     "output_type": "stream",
     "text": [
      "Cohort is:  adult\n"
     ]
    }
   ],
   "source": [
    "# flow control template:  if / else \n",
    "\n",
    "# test for life stage of frogs\n",
    "gills = False\n",
    "if gills == True :\n",
    "    cohort = 'tadpole'\n",
    "else : \n",
    "    cohort = 'adult'\n",
    "print('Cohort is: ', cohort)"
   ]
  },
  {
   "cell_type": "code",
   "execution_count": 25,
   "id": "b6f01e07-22d0-4ba8-ad1a-04f866423ffa",
   "metadata": {},
   "outputs": [
    {
     "name": "stdout",
     "output_type": "stream",
     "text": [
      "name: Athena\n",
      "name: Thor\n",
      "name: Ra\n",
      "total individuals = 3\n"
     ]
    }
   ],
   "source": [
    "# flow control template: for loop\n",
    "\n",
    "# print out names of study group\n",
    "study_group = ['Athena', 'Thor', 'Ra'] \n",
    "for x in study_group :\n",
    "    print('name:', x)\n",
    "num = len(study_group)\n",
    "print('total individuals =', num)"
   ]
  },
  {
   "cell_type": "code",
   "execution_count": 28,
   "id": "02137b6a-63ef-400e-9346-d53107dce11c",
   "metadata": {},
   "outputs": [
    {
     "name": "stdout",
     "output_type": "stream",
     "text": [
      "False True\n"
     ]
    }
   ],
   "source": [
    "# create a function to test whether 7 is a factor\n",
    "\n",
    "def is_div_by_7(input_value) :\n",
    "    if input_value % 7 == 0 : return True\n",
    "    else: return False \n",
    "\n",
    "# call the function\n",
    "result_1 = is_div_by_7(3)\n",
    "result_2 = is_div_by_7(42)\n",
    "print(result_1, result_2)                "
   ]
  }
 ],
 "metadata": {
  "kernelspec": {
   "display_name": "Python 3 (ipykernel)",
   "language": "python",
   "name": "python3"
  },
  "language_info": {
   "codemirror_mode": {
    "name": "ipython",
    "version": 3
   },
   "file_extension": ".py",
   "mimetype": "text/x-python",
   "name": "python",
   "nbconvert_exporter": "python",
   "pygments_lexer": "ipython3",
   "version": "3.10.9"
  }
 },
 "nbformat": 4,
 "nbformat_minor": 5
}
