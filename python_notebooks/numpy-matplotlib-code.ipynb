{
 "cells": [
  {
   "cell_type": "markdown",
   "id": "e7cfe38a-106f-4c92-87c0-f378dc040257",
   "metadata": {},
   "source": [
    "# Numpy and Matplotlib code examples"
   ]
  },
  {
   "cell_type": "code",
   "execution_count": 10,
   "id": "d96db317-b1a3-4434-823b-44ede76b8ace",
   "metadata": {},
   "outputs": [],
   "source": [
    "import numpy as np\n",
    "from matplotlib import pyplot as plt\n",
    "\n",
    "# Note: np and plt are frequently used aliases for these two packages\n",
    "\n",
    "import skimage  # for some example data\n"
   ]
  },
  {
   "cell_type": "markdown",
   "id": "e81df99e-4d32-450a-9f90-fedfeef1ce83",
   "metadata": {},
   "source": [
    "## Array creation, indexing, and dimensional attributes\n"
   ]
  },
  {
   "cell_type": "code",
   "execution_count": null,
   "id": "e49869a9-a29e-46e1-bd1b-0825e58185e7",
   "metadata": {},
   "outputs": [],
   "source": [
    "## manual array creation"
   ]
  },
  {
   "cell_type": "code",
   "execution_count": null,
   "id": "d94a60c4-e766-4b04-84f3-818d725f5169",
   "metadata": {},
   "outputs": [],
   "source": [
    "## arange and linspace"
   ]
  },
  {
   "cell_type": "code",
   "execution_count": null,
   "id": "9b14dd66-7729-464a-b779-5d029655439f",
   "metadata": {},
   "outputs": [],
   "source": [
    "## zeros, ones, and empty"
   ]
  },
  {
   "cell_type": "code",
   "execution_count": null,
   "id": "2a4944ad-f352-45a6-bd29-af26baa02217",
   "metadata": {},
   "outputs": [],
   "source": [
    "## random values drawn from distributions"
   ]
  },
  {
   "cell_type": "markdown",
   "id": "69d1a529-f591-4b7e-8b26-f466733311f1",
   "metadata": {},
   "source": [
    "## Vectorized operations"
   ]
  },
  {
   "cell_type": "code",
   "execution_count": null,
   "id": "8ca0ace0-6da5-46b5-884f-e8d41e7a085c",
   "metadata": {},
   "outputs": [],
   "source": [
    "# numpy mathematical functions"
   ]
  },
  {
   "cell_type": "code",
   "execution_count": null,
   "id": "56e3f9af-4d4c-4e73-981a-ef5441387982",
   "metadata": {},
   "outputs": [],
   "source": []
  },
  {
   "cell_type": "markdown",
   "id": "928f67bf-2b87-4b3c-9001-4e1c60ea5179",
   "metadata": {},
   "source": [
    "## Plotting"
   ]
  },
  {
   "cell_type": "code",
   "execution_count": 5,
   "id": "1a94c684-8f2e-4b65-9dea-58b4efb8d694",
   "metadata": {},
   "outputs": [],
   "source": [
    "## line plots and marker plots with pyplot.plot"
   ]
  },
  {
   "cell_type": "code",
   "execution_count": 6,
   "id": "5d53fb5a-5f4f-4e94-9207-7a072adf6cd7",
   "metadata": {},
   "outputs": [],
   "source": [
    "## histograms"
   ]
  },
  {
   "cell_type": "code",
   "execution_count": 7,
   "id": "87e2ea59-f967-444f-9535-530c70a553b6",
   "metadata": {},
   "outputs": [],
   "source": [
    "## boxplots"
   ]
  },
  {
   "cell_type": "code",
   "execution_count": null,
   "id": "3294563d-eb13-4cb4-bbb4-37b96433bc06",
   "metadata": {},
   "outputs": [],
   "source": [
    "## Contour plots"
   ]
  },
  {
   "cell_type": "code",
   "execution_count": null,
   "id": "2770427f-c244-45ac-a99d-96713e62f525",
   "metadata": {},
   "outputs": [],
   "source": [
    "## imshow"
   ]
  },
  {
   "cell_type": "code",
   "execution_count": 9,
   "id": "cb6ed6ea-35de-4159-a3c7-b1ec8ce59ebb",
   "metadata": {},
   "outputs": [],
   "source": [
    "## subplots"
   ]
  },
  {
   "cell_type": "markdown",
   "id": "22740bcf-d74b-47c9-8dfe-63eebf509c0e",
   "metadata": {},
   "source": [
    "## Indexing and reshaping"
   ]
  },
  {
   "cell_type": "code",
   "execution_count": null,
   "id": "8def4060-ee86-463d-9e30-c5ecc93561fd",
   "metadata": {},
   "outputs": [],
   "source": [
    "## Indexing across multiple dimenions"
   ]
  },
  {
   "cell_type": "code",
   "execution_count": 6,
   "id": "fac32acf-92c8-488b-90e8-bbaed60eba62",
   "metadata": {},
   "outputs": [],
   "source": [
    "## Reshaping arrays"
   ]
  },
  {
   "cell_type": "code",
   "execution_count": null,
   "id": "fd7be865-87fb-4544-9365-da8cc7c58666",
   "metadata": {},
   "outputs": [],
   "source": [
    "## np.newaxis"
   ]
  },
  {
   "cell_type": "markdown",
   "id": "7b188582-1508-4365-881c-cd1b3ae6a68c",
   "metadata": {},
   "source": [
    "## Broadcasting\n"
   ]
  },
  {
   "cell_type": "code",
   "execution_count": null,
   "id": "008d1d71-2df6-466a-8af3-dcd077965586",
   "metadata": {},
   "outputs": [],
   "source": []
  },
  {
   "cell_type": "markdown",
   "id": "25e1aea4-b086-47c8-9438-f6ac4b85cbb6",
   "metadata": {},
   "source": [
    "## Advanced plots"
   ]
  },
  {
   "cell_type": "code",
   "execution_count": 5,
   "id": "a9c3cc78-a581-447c-951b-d066e599a113",
   "metadata": {},
   "outputs": [],
   "source": [
    "## Contour plots"
   ]
  },
  {
   "cell_type": "code",
   "execution_count": 4,
   "id": "d1c05d54-872a-4c3f-ad04-a69bcde00d28",
   "metadata": {},
   "outputs": [],
   "source": [
    "## 3D scatter plots"
   ]
  },
  {
   "cell_type": "code",
   "execution_count": null,
   "id": "2922b352-7e9b-45c7-a1fb-6e51f3d6212a",
   "metadata": {},
   "outputs": [],
   "source": [
    "## 3D surface plots"
   ]
  }
 ],
 "metadata": {
  "kernelspec": {
   "display_name": "Python 3 (ipykernel)",
   "language": "python",
   "name": "python3"
  },
  "language_info": {
   "codemirror_mode": {
    "name": "ipython",
    "version": 3
   },
   "file_extension": ".py",
   "mimetype": "text/x-python",
   "name": "python",
   "nbconvert_exporter": "python",
   "pygments_lexer": "ipython3",
   "version": "3.10.11"
  }
 },
 "nbformat": 4,
 "nbformat_minor": 5
}
